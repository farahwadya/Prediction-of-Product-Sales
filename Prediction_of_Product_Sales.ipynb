{
  "nbformat": 4,
  "nbformat_minor": 0,
  "metadata": {
    "colab": {
      "provenance": [],
      "authorship_tag": "ABX9TyPQMGCOsRtG7GCB+14rfvew",
      "include_colab_link": true
    },
    "kernelspec": {
      "name": "python3",
      "display_name": "Python 3"
    },
    "language_info": {
      "name": "python"
    }
  },
  "cells": [
    {
      "cell_type": "markdown",
      "metadata": {
        "id": "view-in-github",
        "colab_type": "text"
      },
      "source": [
        "<a href=\"https://colab.research.google.com/github/farahwadya/Prediction-of-Product-Sales/blob/main/Prediction_of_Product_Sales.ipynb\" target=\"_parent\"><img src=\"https://colab.research.google.com/assets/colab-badge.svg\" alt=\"Open In Colab\"/></a>"
      ]
    },
    {
      "cell_type": "markdown",
      "source": [
        "# Prediction of Product Sales\n",
        "**Name:** Farah Alwadya"
      ],
      "metadata": {
        "id": "3e-Vu0xy4oyH"
      }
    },
    {
      "cell_type": "code",
      "execution_count": null,
      "metadata": {
        "id": "PyOpY87z38DG"
      },
      "outputs": [],
      "source": []
    },
    {
      "cell_type": "markdown",
      "source": [
        "## Project Overview"
      ],
      "metadata": {
        "id": "T0uGFCiy49YA"
      }
    },
    {
      "cell_type": "code",
      "source": [],
      "metadata": {
        "id": "LSPXGDSg5xVX"
      },
      "execution_count": null,
      "outputs": []
    },
    {
      "cell_type": "markdown",
      "source": [
        "## Load and Inspect Data"
      ],
      "metadata": {
        "id": "31BwmRTF5Aif"
      }
    },
    {
      "cell_type": "code",
      "source": [],
      "metadata": {
        "id": "c5xMRiMF5x1A"
      },
      "execution_count": null,
      "outputs": []
    },
    {
      "cell_type": "markdown",
      "source": [
        "## Clean Data\n",
        "\n"
      ],
      "metadata": {
        "id": "SUAO21Ni5QEm"
      }
    },
    {
      "cell_type": "code",
      "source": [],
      "metadata": {
        "id": "2s0eHoya5yJw"
      },
      "execution_count": null,
      "outputs": []
    },
    {
      "cell_type": "markdown",
      "source": [
        "## Exploratory Data Analysis"
      ],
      "metadata": {
        "id": "VaG8XZ-u51g3"
      }
    },
    {
      "cell_type": "code",
      "source": [],
      "metadata": {
        "id": "6vubxeKC56DP"
      },
      "execution_count": null,
      "outputs": []
    },
    {
      "cell_type": "markdown",
      "source": [
        "## Feature Inspection\n",
        "\n",
        "\n"
      ],
      "metadata": {
        "id": "ujH0Of-S5Qgf"
      }
    },
    {
      "cell_type": "code",
      "source": [],
      "metadata": {
        "id": "nePuzHSx5yif"
      },
      "execution_count": null,
      "outputs": []
    }
  ]
}