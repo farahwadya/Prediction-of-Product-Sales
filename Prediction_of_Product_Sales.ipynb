{
  "nbformat": 4,
  "nbformat_minor": 0,
  "metadata": {
    "colab": {
      "provenance": [],
      "include_colab_link": true
    },
    "kernelspec": {
      "name": "python3",
      "display_name": "Python 3"
    },
    "language_info": {
      "name": "python"
    }
  },
  "cells": [
    {
      "cell_type": "markdown",
      "metadata": {
        "id": "view-in-github",
        "colab_type": "text"
      },
      "source": [
        "<a href=\"https://colab.research.google.com/github/farahwadya/Prediction-of-Product-Sales/blob/main/Prediction_of_Product_Sales.ipynb\" target=\"_parent\"><img src=\"https://colab.research.google.com/assets/colab-badge.svg\" alt=\"Open In Colab\"/></a>"
      ]
    },
    {
      "cell_type": "markdown",
      "source": [
        "# Prediction of Product Sales\n",
        "**Name:** Farah Alwadya"
      ],
      "metadata": {
        "id": "3e-Vu0xy4oyH"
      }
    },
    {
      "cell_type": "code",
      "execution_count": 1,
      "metadata": {
        "id": "PyOpY87z38DG",
        "colab": {
          "base_uri": "https://localhost:8080/"
        },
        "outputId": "f80149bc-7eab-4caa-da0d-0985b3f7238e"
      },
      "outputs": [
        {
          "output_type": "stream",
          "name": "stdout",
          "text": [
            "Mounted at /content/drive\n"
          ]
        }
      ],
      "source": [
        "from google.colab import drive\n",
        "drive.mount('/content/drive')"
      ]
    },
    {
      "cell_type": "markdown",
      "source": [
        "## Project Overview"
      ],
      "metadata": {
        "id": "T0uGFCiy49YA"
      }
    },
    {
      "cell_type": "code",
      "source": [
        "import pandas as pd\n",
        "import numpy as np"
      ],
      "metadata": {
        "id": "cj-P7s17RUBA"
      },
      "execution_count": 4,
      "outputs": []
    },
    {
      "cell_type": "markdown",
      "source": [
        "## Load and Inspect Data"
      ],
      "metadata": {
        "id": "31BwmRTF5Aif"
      }
    },
    {
      "cell_type": "code",
      "source": [
        "fpath='/content/drive/MyDrive/Axsos Data science/AXSOSACADEMY/01-Fundamentals/Week02/Data/sales_predictions_2023.csv'\n",
        "df_sales=pd.read_csv(fpath)"
      ],
      "metadata": {
        "id": "c5xMRiMF5x1A"
      },
      "execution_count": 5,
      "outputs": []
    },
    {
      "cell_type": "code",
      "source": [
        "df_sales.head()"
      ],
      "metadata": {
        "id": "8q93dfPTUjaC"
      },
      "execution_count": null,
      "outputs": []
    },
    {
      "cell_type": "markdown",
      "source": [
        "## Clean Data\n",
        "\n"
      ],
      "metadata": {
        "id": "SUAO21Ni5QEm"
      }
    },
    {
      "cell_type": "code",
      "source": [],
      "metadata": {
        "id": "2s0eHoya5yJw"
      },
      "execution_count": null,
      "outputs": []
    },
    {
      "cell_type": "markdown",
      "source": [
        "## Exploratory Data Analysis"
      ],
      "metadata": {
        "id": "VaG8XZ-u51g3"
      }
    },
    {
      "cell_type": "code",
      "source": [],
      "metadata": {
        "id": "6vubxeKC56DP"
      },
      "execution_count": null,
      "outputs": []
    },
    {
      "cell_type": "markdown",
      "source": [
        "## Feature Inspection\n",
        "\n",
        "\n"
      ],
      "metadata": {
        "id": "ujH0Of-S5Qgf"
      }
    },
    {
      "cell_type": "code",
      "source": [],
      "metadata": {
        "id": "nePuzHSx5yif"
      },
      "execution_count": null,
      "outputs": []
    }
  ]
}